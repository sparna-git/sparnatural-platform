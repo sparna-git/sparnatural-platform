{
 "cells": [
  {
   "cell_type": "code",
   "execution_count": 3,
   "id": "608e6482",
   "metadata": {},
   "outputs": [
    {
     "name": "stdout",
     "output_type": "stream",
     "text": [
      "✅ Transformation terminée.\n"
     ]
    }
   ],
   "source": [
    "import json\n",
    "\n",
    "# === 1. Dictionnaire de correspondance ===\n",
    "old_to_new = {\n",
    "    \"https://data.mydomain.com/ontologies/sparnatural-config/Artwork_label\": \"https://data.mydomain.com/ontologies/sparnatural-config/p1\",\n",
    "    \"https://data.mydomain.com/ontologies/sparnatural-config/Artwork_author\": \"https://data.mydomain.com/ontologies/sparnatural-config/p2\",\n",
    "    \"https://data.mydomain.com/ontologies/sparnatural-config/Artwork_creationYear\": \"https://data.mydomain.com/ontologies/sparnatural-config/p3\",\n",
    "    \"https://data.mydomain.com/ontologies/sparnatural-config/Artwork_displayedAt\": \"https://data.mydomain.com/ontologies/sparnatural-config/p4\",\n",
    "    \"https://data.mydomain.com/ontologies/sparnatural-config/Artwork_thumbnail\": \"https://data.mydomain.com/ontologies/sparnatural-config/p5\",\n",
    "    \"https://data.mydomain.com/ontologies/sparnatural-config/Artwork_description\": \"https://data.mydomain.com/ontologies/sparnatural-config/p6\",\n",
    "    \"https://data.mydomain.com/ontologies/sparnatural-config/Museum_country\": \"https://data.mydomain.com/ontologies/sparnatural-config/p7\",\n",
    "    \"https://data.mydomain.com/ontologies/sparnatural-config/Museum_label\": \"https://data.mydomain.com/ontologies/sparnatural-config/p8\",\n",
    "    \"https://data.mydomain.com/ontologies/sparnatural-config/Museum_numberOfVisitors\": \"https://data.mydomain.com/ontologies/sparnatural-config/p9\",\n",
    "    \"https://data.mydomain.com/ontologies/sparnatural-config/Museum_displays\": \"https://data.mydomain.com/ontologies/sparnatural-config/p10\",\n",
    "    \"https://data.mydomain.com/ontologies/sparnatural-config/Museum_inWikidata\": \"https://data.mydomain.com/ontologies/sparnatural-config/p11\",\n",
    "    \"https://data.mydomain.com/ontologies/sparnatural-config/Museum_thumbnail\": \"https://data.mydomain.com/ontologies/sparnatural-config/p12\",\n",
    "    \"https://data.mydomain.com/ontologies/sparnatural-config/Museum_description\": \"https://data.mydomain.com/ontologies/sparnatural-config/p13\",\n",
    "    \"https://data.mydomain.com/ontologies/sparnatural-config/Country_countryOf\": \"https://data.mydomain.com/ontologies/sparnatural-config/p14\",\n",
    "    \"https://data.mydomain.com/ontologies/sparnatural-config/Country_label\": \"https://data.mydomain.com/ontologies/sparnatural-config/p15\",\n",
    "    \"https://data.mydomain.com/ontologies/sparnatural-config/Country_deathPlace\": \"https://data.mydomain.com/ontologies/sparnatural-config/p16\",\n",
    "    \"https://data.mydomain.com/ontologies/sparnatural-config/Country_birthPlace\": \"https://data.mydomain.com/ontologies/sparnatural-config/p17\",\n",
    "    \"https://data.mydomain.com/ontologies/sparnatural-config/Person_bornIn\": \"https://data.mydomain.com/ontologies/sparnatural-config/p18\",\n",
    "    \"https://data.mydomain.com/ontologies/sparnatural-config/Person_diedIn\": \"https://data.mydomain.com/ontologies/sparnatural-config/p19\",\n",
    "    \"https://data.mydomain.com/ontologies/sparnatural-config/Person_label\": \"https://data.mydomain.com/ontologies/sparnatural-config/p20\",\n",
    "    \"https://data.mydomain.com/ontologies/sparnatural-config/Person_birthDate\": \"https://data.mydomain.com/ontologies/sparnatural-config/p21\",\n",
    "    \"https://data.mydomain.com/ontologies/sparnatural-config/Person_classifiedIn\": \"https://data.mydomain.com/ontologies/sparnatural-config/p22\",\n",
    "    \"https://data.mydomain.com/ontologies/sparnatural-config/Person_created\": \"https://data.mydomain.com/ontologies/sparnatural-config/p23\",\n",
    "    \"https://data.mydomain.com/ontologies/sparnatural-config/Person_deathYear\": \"https://data.mydomain.com/ontologies/sparnatural-config/p24\",\n",
    "    \"https://data.mydomain.com/ontologies/sparnatural-config/Person_movement\": \"https://data.mydomain.com/ontologies/sparnatural-config/p25\",\n",
    "    \"https://data.mydomain.com/ontologies/sparnatural-config/Person_thumbnail\": \"https://data.mydomain.com/ontologies/sparnatural-config/p26\",\n",
    "    \"https://data.mydomain.com/ontologies/sparnatural-config/Person_description\": \"https://data.mydomain.com/ontologies/sparnatural-config/p27\",\n",
    "    \"https://data.mydomain.com/ontologies/sparnatural-config/Movement_movementIncludes\": \"https://data.mydomain.com/ontologies/sparnatural-config/p28\",\n",
    "    \"https://data.mydomain.com/ontologies/sparnatural-config/Movement_description\": \"https://data.mydomain.com/ontologies/sparnatural-config/p29\",\n",
    "    \"https://data.mydomain.com/ontologies/sparnatural-config/Movement_label\": \"https://data.mydomain.com/ontologies/sparnatural-config/p30\",\n",
    "    \"https://data.mydomain.com/ontologies/sparnatural-config/MuseumWikidata_situe_a\": \"https://data.mydomain.com/ontologies/sparnatural-config/p31\",\n",
    "}\n",
    "\n",
    "# === 2. Fonction récursive de transformation ===\n",
    "def replace_predicates(branches, mapping):\n",
    "    for branch in branches:\n",
    "        old_p = branch[\"line\"][\"p\"]\n",
    "        if old_p in mapping:\n",
    "            branch[\"line\"][\"p\"] = mapping[old_p]\n",
    "        # appel récursif pour les enfants\n",
    "        if \"children\" in branch and branch[\"children\"]:\n",
    "            replace_predicates(branch[\"children\"], mapping)\n",
    "\n",
    "# === 3. Charger un fichier JSON d'entrée ===\n",
    "with open(\"query_input.json\", \"r\", encoding=\"utf-8\") as f:\n",
    "    query = json.load(f)\n",
    "\n",
    "# === 4. Appliquer la transformation ===\n",
    "replace_predicates(query[\"branches\"], old_to_new)\n",
    "\n",
    "# === 5. Sauvegarder le résultat ===\n",
    "with open(\"query_output_transformed.json\", \"w\", encoding=\"utf-8\") as f:\n",
    "    json.dump(query, f, indent=2, ensure_ascii=False)\n",
    "\n",
    "print(\"✅ Transformation terminée.\")\n"
   ]
  }
 ],
 "metadata": {
  "kernelspec": {
   "display_name": "Python 3",
   "language": "python",
   "name": "python3"
  },
  "language_info": {
   "codemirror_mode": {
    "name": "ipython",
    "version": 3
   },
   "file_extension": ".py",
   "mimetype": "text/x-python",
   "name": "python",
   "nbconvert_exporter": "python",
   "pygments_lexer": "ipython3",
   "version": "3.12.10"
  }
 },
 "nbformat": 4,
 "nbformat_minor": 5
}
